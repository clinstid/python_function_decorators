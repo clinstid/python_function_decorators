{
 "cells": [
  {
   "cell_type": "code",
   "execution_count": 1,
   "metadata": {
    "collapsed": false,
    "scrolled": true
   },
   "outputs": [
    {
     "name": "stdout",
     "output_type": "stream",
     "text": [
      "My name is Chris, his name is George\n",
      "Your name is John\n"
     ]
    }
   ],
   "source": [
    "from functools import wraps\n",
    "\n",
    "def my_name(his_name=\"Bob\"):\n",
    "    \"\"\"\n",
    "    In order to pass arguments to a function decorator, you need an outer layer that\n",
    "    accepts the arguments and returns the function decorator function.\n",
    "    \"\"\"\n",
    "    def my_name_decorator(function):\n",
    "        \"\"\"\n",
    "        The function decorator function accepts the decorated function as an argument \n",
    "        and contains a wrapper function that it must return.\n",
    "        \"\"\"\n",
    "\n",
    "        \"\"\"\n",
    "        The @wraps decorator is a helper decorator. See\n",
    "        https://docs.python.org/3.4/library/functools.html#functools.wraps for more\n",
    "        information.\n",
    "        \"\"\"\n",
    "        @wraps(function)\n",
    "        def my_name_wrapper(name):\n",
    "            \"\"\"\n",
    "            The wrapper function checks state and makes whatever modifications are \n",
    "            required. It should return whatever is expected from the decorated \n",
    "            function and it may even call the original function.\n",
    "            \"\"\"\n",
    "            print(\"My name is Chris, his name is {}\".format(his_name))\n",
    "            return function(name)\n",
    "        return my_name_wrapper\n",
    "    return my_name_decorator\n",
    "\n",
    "@my_name(his_name=\"George\")\n",
    "def print_name(name):\n",
    "    print(\"Your name is {}\".format(name))\n",
    "\n",
    "print_name(\"John\")"
   ]
  }
 ],
 "metadata": {
  "kernelspec": {
   "display_name": "Python 3",
   "language": "python",
   "name": "python3"
  },
  "language_info": {
   "codemirror_mode": {
    "name": "ipython",
    "version": 3
   },
   "file_extension": ".py",
   "mimetype": "text/x-python",
   "name": "python",
   "nbconvert_exporter": "python",
   "pygments_lexer": "ipython3",
   "version": "3.4.3"
  }
 },
 "nbformat": 4,
 "nbformat_minor": 0
}
